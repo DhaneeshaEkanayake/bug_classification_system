{
  "nbformat": 4,
  "nbformat_minor": 0,
  "metadata": {
    "colab": {
      "provenance": []
    },
    "kernelspec": {
      "name": "python3",
      "display_name": "Python 3"
    },
    "language_info": {
      "name": "python"
    }
  },
  "cells": [
    {
      "cell_type": "code",
      "execution_count": null,
      "metadata": {
        "id": "ut_m3_4IWkiI"
      },
      "outputs": [],
      "source": []
    },
    {
      "cell_type": "code",
      "source": [
        "import os\n",
        "import cv2\n",
        "import numpy as np\n",
        "from sklearn.model_selection import train_test_split\n",
        "from tensorflow.keras.applications import VGG16\n",
        "from tensorflow.keras.layers import Dropout, GlobalAveragePooling2D\n",
        "from tensorflow.keras.preprocessing.image import ImageDataGenerator\n",
        "\n",
        "# Define the image size and the number of classes\n",
        "IMG_SIZE = 224\n",
        "NUM_CLASSES = 4\n",
        "\n",
        "# Load the images and labels\n",
        "images = []\n",
        "labels = []\n",
        "for i, error_type in enumerate(['Functional', 'System_level', 'Usability_level', 'Security level']):\n",
        "    folder_path = f'/content/sample_data/Dataset/{error_type}'\n",
        "    for filename in os.listdir(folder_path):\n",
        "        img = cv2.imread(os.path.join(folder_path, filename))\n",
        "        if img is not None:\n",
        "            img = cv2.resize(img, (IMG_SIZE, IMG_SIZE))\n",
        "            images.append(img)\n",
        "            labels.append(i)\n",
        "\n",
        "# Convert to numpy arrays and normalize the images\n",
        "images = np.array(images) / 255.0\n",
        "labels = np.array(labels)\n",
        "\n",
        "# Split the data into training and test sets\n",
        "train_images, test_images, train_labels, test_labels = train_test_split(images, labels, test_size=0.2, random_state=42)\n",
        "\n",
        "import tensorflow as tf\n",
        "\n",
        "# Load pre-trained VGG16 model without the top layers\n",
        "base_model = VGG16(input_shape=(IMG_SIZE, IMG_SIZE, 3), include_top=False, weights='imagenet')\n",
        "base_model.trainable = False\n",
        "\n",
        "# Define the model\n",
        "model = tf.keras.models.Sequential([\n",
        "    base_model,\n",
        "    tf.keras.layers.Conv2D(64, (3, 3), activation='relu'),\n",
        "    tf.keras.layers.MaxPooling2D(2, 2),\n",
        "    GlobalAveragePooling2D(),\n",
        "    tf.keras.layers.Dense(256, activation='relu'),\n",
        "    Dropout(0.5),\n",
        "    tf.keras.layers.Dense(128, activation='relu'),\n",
        "    Dropout(0.5),\n",
        "    tf.keras.layers.Dense(NUM_CLASSES, activation='softmax')\n",
        "])\n",
        "\n",
        "# Compile the model\n",
        "model.compile(optimizer='adam', loss='sparse_categorical_crossentropy', metrics=['accuracy'])\n",
        "\n",
        "# Create ImageDataGenerator for data augmentation\n",
        "datagen = ImageDataGenerator(\n",
        "    rotation_range=20,\n",
        "    zoom_range=0.15,\n",
        "    width_shift_range=0.2,\n",
        "    height_shift_range=0.2,\n",
        "    shear_range=0.15,\n",
        "    horizontal_flip=True,\n",
        "    fill_mode=\"nearest\")\n",
        "\n",
        "# Train the model\n",
        "batch_size = 32\n",
        "history = model.fit(datagen.flow(train_images, train_labels, batch_size=batch_size),\n",
        "                    steps_per_epoch=len(train_images) // batch_size,\n",
        "                    validation_data=(test_images, test_labels),\n",
        "                    epochs=30)\n",
        "\n",
        "model.save('bug_classifier.h5')\n"
      ],
      "metadata": {
        "colab": {
          "base_uri": "https://localhost:8080/"
        },
        "id": "T0Chs3kl1Dbf",
        "outputId": "263f6c27-9ea6-47c5-b4ca-b2374741db1a"
      },
      "execution_count": null,
      "outputs": [
        {
          "output_type": "stream",
          "name": "stdout",
          "text": [
            "Epoch 1/30\n",
            "4/4 [==============================] - 4s 401ms/step - loss: 1.5646 - accuracy: 0.2031 - val_loss: 1.3761 - val_accuracy: 0.2121\n",
            "Epoch 2/30\n",
            "4/4 [==============================] - 2s 419ms/step - loss: 1.4319 - accuracy: 0.2422 - val_loss: 1.3940 - val_accuracy: 0.2727\n",
            "Epoch 3/30\n",
            "4/4 [==============================] - 2s 403ms/step - loss: 1.4684 - accuracy: 0.2500 - val_loss: 1.3638 - val_accuracy: 0.3939\n",
            "Epoch 4/30\n",
            "4/4 [==============================] - 2s 402ms/step - loss: 1.3939 - accuracy: 0.2500 - val_loss: 1.3701 - val_accuracy: 0.3030\n",
            "Epoch 5/30\n",
            "4/4 [==============================] - 2s 471ms/step - loss: 1.3722 - accuracy: 0.3203 - val_loss: 1.3602 - val_accuracy: 0.3636\n",
            "Epoch 6/30\n",
            "4/4 [==============================] - 2s 426ms/step - loss: 1.3641 - accuracy: 0.3281 - val_loss: 1.3511 - val_accuracy: 0.4545\n",
            "Epoch 7/30\n",
            "4/4 [==============================] - 2s 373ms/step - loss: 1.3471 - accuracy: 0.3125 - val_loss: 1.3444 - val_accuracy: 0.3636\n",
            "Epoch 8/30\n",
            "4/4 [==============================] - 2s 376ms/step - loss: 1.3340 - accuracy: 0.4297 - val_loss: 1.3302 - val_accuracy: 0.3939\n",
            "Epoch 9/30\n",
            "4/4 [==============================] - 2s 378ms/step - loss: 1.3139 - accuracy: 0.3672 - val_loss: 1.3288 - val_accuracy: 0.3636\n",
            "Epoch 10/30\n",
            "4/4 [==============================] - 2s 375ms/step - loss: 1.2815 - accuracy: 0.4219 - val_loss: 1.3189 - val_accuracy: 0.3939\n",
            "Epoch 11/30\n",
            "4/4 [==============================] - 2s 368ms/step - loss: 1.2751 - accuracy: 0.3438 - val_loss: 1.2979 - val_accuracy: 0.3939\n",
            "Epoch 12/30\n",
            "4/4 [==============================] - 2s 371ms/step - loss: 1.2502 - accuracy: 0.3984 - val_loss: 1.2835 - val_accuracy: 0.3939\n",
            "Epoch 13/30\n",
            "4/4 [==============================] - 2s 405ms/step - loss: 1.2218 - accuracy: 0.4297 - val_loss: 1.2614 - val_accuracy: 0.4848\n",
            "Epoch 14/30\n",
            "4/4 [==============================] - 2s 401ms/step - loss: 1.2464 - accuracy: 0.3594 - val_loss: 1.2540 - val_accuracy: 0.4848\n",
            "Epoch 15/30\n",
            "4/4 [==============================] - 2s 368ms/step - loss: 1.1858 - accuracy: 0.4688 - val_loss: 1.2699 - val_accuracy: 0.3636\n",
            "Epoch 16/30\n",
            "4/4 [==============================] - 2s 368ms/step - loss: 1.1752 - accuracy: 0.4609 - val_loss: 1.2667 - val_accuracy: 0.3636\n",
            "Epoch 17/30\n",
            "4/4 [==============================] - 2s 368ms/step - loss: 1.1747 - accuracy: 0.4453 - val_loss: 1.2465 - val_accuracy: 0.4545\n",
            "Epoch 18/30\n",
            "4/4 [==============================] - 2s 373ms/step - loss: 1.1390 - accuracy: 0.5234 - val_loss: 1.2509 - val_accuracy: 0.3636\n",
            "Epoch 19/30\n",
            "4/4 [==============================] - 2s 374ms/step - loss: 1.1313 - accuracy: 0.5469 - val_loss: 1.2376 - val_accuracy: 0.4545\n",
            "Epoch 20/30\n",
            "4/4 [==============================] - 2s 386ms/step - loss: 1.1163 - accuracy: 0.5312 - val_loss: 1.2376 - val_accuracy: 0.5152\n",
            "Epoch 21/30\n",
            "4/4 [==============================] - 2s 403ms/step - loss: 1.0509 - accuracy: 0.5234 - val_loss: 1.2314 - val_accuracy: 0.5152\n",
            "Epoch 22/30\n",
            "4/4 [==============================] - 2s 405ms/step - loss: 1.0647 - accuracy: 0.5234 - val_loss: 1.2221 - val_accuracy: 0.3939\n",
            "Epoch 23/30\n",
            "4/4 [==============================] - 2s 381ms/step - loss: 0.9859 - accuracy: 0.5938 - val_loss: 1.2323 - val_accuracy: 0.4242\n",
            "Epoch 24/30\n",
            "4/4 [==============================] - 2s 376ms/step - loss: 1.0301 - accuracy: 0.5703 - val_loss: 1.2280 - val_accuracy: 0.4545\n",
            "Epoch 25/30\n",
            "4/4 [==============================] - 2s 386ms/step - loss: 1.0001 - accuracy: 0.5938 - val_loss: 1.2236 - val_accuracy: 0.4545\n",
            "Epoch 26/30\n",
            "4/4 [==============================] - 2s 387ms/step - loss: 0.8824 - accuracy: 0.6719 - val_loss: 1.2244 - val_accuracy: 0.4242\n",
            "Epoch 27/30\n",
            "4/4 [==============================] - 2s 375ms/step - loss: 0.8912 - accuracy: 0.6016 - val_loss: 1.2471 - val_accuracy: 0.4848\n",
            "Epoch 28/30\n",
            "4/4 [==============================] - 2s 379ms/step - loss: 0.9099 - accuracy: 0.6328 - val_loss: 1.2576 - val_accuracy: 0.4545\n",
            "Epoch 29/30\n",
            "4/4 [==============================] - 2s 412ms/step - loss: 0.9206 - accuracy: 0.6016 - val_loss: 1.2494 - val_accuracy: 0.5152\n",
            "Epoch 30/30\n",
            "4/4 [==============================] - 2s 413ms/step - loss: 0.8560 - accuracy: 0.6250 - val_loss: 1.2763 - val_accuracy: 0.4545\n"
          ]
        }
      ]
    },
    {
      "cell_type": "code",
      "source": [
        "# Evaluate the model on the test data using `evaluate`\n",
        "print(\"Evaluate on test data\")\n",
        "results = model.evaluate(test_images, test_labels, batch_size=128)\n",
        "print(\"test loss, test accuracy:\", results)\n"
      ],
      "metadata": {
        "colab": {
          "base_uri": "https://localhost:8080/"
        },
        "id": "ixYWWG7R3UgU",
        "outputId": "9dda9cf3-8961-4ec3-b497-1899e2d6e70a"
      },
      "execution_count": null,
      "outputs": [
        {
          "output_type": "stream",
          "name": "stdout",
          "text": [
            "Evaluate on test data\n",
            "1/1 [==============================] - 5s 5s/step - loss: 1.2763 - accuracy: 0.4545\n",
            "test loss, test accuracy: [1.276265263557434, 0.4545454680919647]\n"
          ]
        }
      ]
    }
  ]
}